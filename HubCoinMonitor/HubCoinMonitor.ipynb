{
 "cells": [
  {
   "cell_type": "code",
   "execution_count": 9,
   "id": "a059e1cc",
   "metadata": {},
   "outputs": [
    {
     "ename": "ModuleNotFoundError",
     "evalue": "No module named 'discord'",
     "output_type": "error",
     "traceback": [
      "\u001b[1;31m---------------------------------------------------------------------------\u001b[0m",
      "\u001b[1;31mModuleNotFoundError\u001b[0m                       Traceback (most recent call last)",
      "\u001b[1;32m~\\AppData\\Local\\Temp/ipykernel_14432/3018411372.py\u001b[0m in \u001b[0;36m<module>\u001b[1;34m\u001b[0m\n\u001b[0;32m      2\u001b[0m \u001b[1;32mimport\u001b[0m \u001b[0mnumpy\u001b[0m \u001b[1;32mas\u001b[0m \u001b[0mnp\u001b[0m\u001b[1;33m\u001b[0m\u001b[1;33m\u001b[0m\u001b[0m\n\u001b[0;32m      3\u001b[0m \u001b[1;32mimport\u001b[0m \u001b[0mcsv\u001b[0m\u001b[1;33m\u001b[0m\u001b[1;33m\u001b[0m\u001b[0m\n\u001b[1;32m----> 4\u001b[1;33m \u001b[1;32mimport\u001b[0m \u001b[0mdiscord\u001b[0m\u001b[1;33m.\u001b[0m\u001b[0mpy\u001b[0m\u001b[1;33m\u001b[0m\u001b[1;33m\u001b[0m\u001b[0m\n\u001b[0m\u001b[0;32m      5\u001b[0m \u001b[1;32mimport\u001b[0m \u001b[0mmatplotlib\u001b[0m\u001b[1;33m.\u001b[0m\u001b[0mpyplot\u001b[0m \u001b[1;32mas\u001b[0m \u001b[0mplt\u001b[0m\u001b[1;33m\u001b[0m\u001b[1;33m\u001b[0m\u001b[0m\n\u001b[0;32m      6\u001b[0m \u001b[0mget_ipython\u001b[0m\u001b[1;33m(\u001b[0m\u001b[1;33m)\u001b[0m\u001b[1;33m.\u001b[0m\u001b[0mrun_line_magic\u001b[0m\u001b[1;33m(\u001b[0m\u001b[1;34m'matplotlib'\u001b[0m\u001b[1;33m,\u001b[0m \u001b[1;34m'inline'\u001b[0m\u001b[1;33m)\u001b[0m\u001b[1;33m\u001b[0m\u001b[1;33m\u001b[0m\u001b[0m\n",
      "\u001b[1;31mModuleNotFoundError\u001b[0m: No module named 'discord'"
     ]
    }
   ],
   "source": [
    "import pandas as pd\n",
    "import numpy as np\n",
    "import csv\n",
    "import discord.py\n",
    "import matplotlib.pyplot as plt\n",
    "%matplotlib inline\n",
    "\n",
    "# HubCoinMonitor jupyter notebook\n",
    "\n",
    "#******************************************************************************\n",
    "# Setting up the two files and importing them as dataframes\n",
    "\n",
    "\n",
    "# REMEMBER THAT YOU MANUALLY CLEANED THE ONE **Holders** FILE AKA 'Address Book'\n",
    "# For you guys that means you need to remove everything from the first file that isn't a \n",
    "# valid entry (the titles that are in the spreadsheet need to be deleted)\n",
    "# DON'T DELETE THE COLUMN NAMES, JUST THE OTHER THINGS\n",
    "\n",
    "# Holders is our manually created record of addresses and names\n",
    "# Import **** <<<<< THIS FILENAME SHOULDN'T NEED CHANGING BUT DOUBLE-CHECK >>>>>  \n",
    "Holders=pd.read_csv('HubCoin Address Book & Achievement List - Address Book.csv', thousands=',')\n",
    "# Make sure the hex addresses are lowercase (for some reason they aren't universal in case -_-)\n",
    "Holders['ADDRESSES'] = Holders['ADDRESSES'].str.lower()\n",
    "# Line up the addresses (this may be redundant as I iterate through to find the right address...may change later)\n",
    "Holders = Holders.sort_values(by='ADDRESSES')\n",
    "# Useless Column\n",
    "Holders.drop('Achievements',axis=1,inplace=True)\n",
    "# Take a loook-seeeee:\n",
    "#Holders.head(5)\n",
    "\n",
    "\n",
    "# AddressBook is actually our downloaded csv from etherscan containing balances and hex addresses\n",
    "# Import 2 ***** <<<<< THIS FILENAME ALMOST CERTAINLY NEEDS CHANGING >>>>\n",
    "Records = pd.read_csv('tokenholders32022.csv')\n",
    "Records['HolderAddress'] = Records['HolderAddress'].str.lower()\n",
    "Records.drop('PendingBalanceUpdate',axis=1,inplace=True)\n",
    "#ESRecords.head(5)\n",
    "\n",
    "# ******************************************************************************\n",
    "\n",
    "# Let's just make everything into lists LOL\n",
    "# We are creating two dictionaries: one of name:address pairs, and one of address:balance pairs\n",
    "# List of names\n",
    "namlist = Holders['Player Name'].tolist()\n",
    "addlist = Holders['ADDRESSES'].tolist()\n",
    "logBook = {}\n",
    "logBook = dict(zip(namlist, addlist))\n",
    "invlogBook = {v: k for k, v in logBook.items()}\n",
    "# Same thing but on the other side with a one liner because fuck you\n",
    "addressBalance = list(zip(Records.HolderAddress, Records.Balance.apply(str)))\n",
    "\n",
    "\n",
    "# Create a dictionary to put our name:balance pairs into\n",
    "nameBalance = {}\n",
    "\n",
    "# The following function prints the name, balance, and hex address of all accounts, and populates the nameBalance dict\n",
    "for key,value in addressBalance:\n",
    "        for x in logBook:\n",
    "            if key == logBook[x]:\n",
    "                #d1 = (x,value)\n",
    "                #print(d1)\n",
    "                nameBalance[x]= value\n",
    "            \n",
    "                #print(x)\n",
    "                #print(\"BALANCE:    \" + value + '\\r\\nADDRESS:    ' + key + '\\r\\n')\n",
    "            \n",
    "            else:\n",
    "                pass\n",
    "\n",
    "def PrintAll():\n",
    "\n",
    "    for key,value in addressBalance:\n",
    "        for x in logBook:\n",
    "            if key == logBook[x]:\n",
    "                #d1 = (x,value)\n",
    "                #print(d1)\n",
    "                nameBalance[x]= value\n",
    "            \n",
    "                print(x)\n",
    "                print(\"BALANCE:    \" + value + '\\r\\nADDRESS:    ' + key + '\\r\\n')\n",
    "            \n",
    "            else:\n",
    "                pass\n",
    "\n",
    "# run once to populate nameBalance dict   \n",
    "#PrintAll()\n",
    "# create and populate a reverse dict (fuk u I like dictionaries)\n",
    "invNameBalance = {}\n",
    "invNameBalance = {v: k for k, v in nameBalance.items()}\n"
   ]
  },
  {
   "cell_type": "code",
   "execution_count": 3,
   "id": "89299eb7",
   "metadata": {},
   "outputs": [
    {
     "name": "stdout",
     "output_type": "stream",
     "text": [
      ">name? \n"
     ]
    }
   ],
   "source": [
    "# The following function takes a name and returns the balance in their address\n",
    "def GetBalanceByName():\n",
    "    name = input(\">name? \")\n",
    "    for x in nameBalance:\n",
    "        if x == name:\n",
    "            print(nameBalance[x])\n",
    "        else:\n",
    "            pass\n",
    "GetBalanceByName()"
   ]
  },
  {
   "cell_type": "code",
   "execution_count": 4,
   "id": "7521ca1c",
   "metadata": {},
   "outputs": [],
   "source": [
    "def GetBalanceByAddress():\n",
    "    address = input(\">address? \")\n",
    "    for key in logBook:\n",
    "        if address == logBook[key]:\n",
    "            print(nameBalance[key])\n"
   ]
  },
  {
   "cell_type": "code",
   "execution_count": 5,
   "id": "5547eaef",
   "metadata": {},
   "outputs": [
    {
     "name": "stdout",
     "output_type": "stream",
     "text": [
      ">address? \n"
     ]
    }
   ],
   "source": [
    "GetBalanceByAddress()\n"
   ]
  },
  {
   "cell_type": "code",
   "execution_count": 6,
   "id": "7b9eac99",
   "metadata": {},
   "outputs": [],
   "source": [
    "def GetAccountInfo():\n",
    "    search = input(\">Enter a name or hex address: \")\n",
    "    for x in logBook:\n",
    "        if x == search:\n",
    "            print(x + \"\\r\\nBALANCE:    \" + nameBalance[x] + \"\\r\\nADDRESS:    \" + logBook[search]  )\n",
    "        else:\n",
    "            pass\n",
    "    for x in invlogBook:\n",
    "        if x == search:\n",
    "            name = invlogBook[search]\n",
    "            print(name + \"\\r\\nBALANCE:    \" + nameBalance[name] + \"\\r\\nADDRESS:    \" + logBook[name] )\n",
    "        else:\n",
    "            pass"
   ]
  },
  {
   "cell_type": "code",
   "execution_count": 7,
   "id": "6e211aa6",
   "metadata": {},
   "outputs": [
    {
     "name": "stdout",
     "output_type": "stream",
     "text": [
      ">Enter a name or hex address: \n"
     ]
    }
   ],
   "source": [
    "GetAccountInfo()\n"
   ]
  },
  {
   "cell_type": "code",
   "execution_count": null,
   "id": "8dad5fb2",
   "metadata": {},
   "outputs": [],
   "source": []
  },
  {
   "cell_type": "code",
   "execution_count": null,
   "id": "31713ca3",
   "metadata": {},
   "outputs": [],
   "source": []
  }
 ],
 "metadata": {
  "kernelspec": {
   "display_name": "Python 3 (ipykernel)",
   "language": "python",
   "name": "python3"
  },
  "language_info": {
   "codemirror_mode": {
    "name": "ipython",
    "version": 3
   },
   "file_extension": ".py",
   "mimetype": "text/x-python",
   "name": "python",
   "nbconvert_exporter": "python",
   "pygments_lexer": "ipython3",
   "version": "3.9.7"
  }
 },
 "nbformat": 4,
 "nbformat_minor": 5
}
